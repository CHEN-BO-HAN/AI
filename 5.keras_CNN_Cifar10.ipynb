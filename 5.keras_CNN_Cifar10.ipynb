{
  "nbformat": 4,
  "nbformat_minor": 0,
  "metadata": {
    "colab": {
      "name": "「「keras_CNN_Cifar10.ipynb」的副本」的副本",
      "provenance": [],
      "toc_visible": true,
      "include_colab_link": true
    },
    "kernelspec": {
      "name": "python3",
      "display_name": "Python 3"
    },
    "language_info": {
      "name": "python"
    },
    "accelerator": "GPU"
  },
  "cells": [
    {
      "cell_type": "markdown",
      "metadata": {
        "id": "view-in-github",
        "colab_type": "text"
      },
      "source": [
        "<a href=\"https://colab.research.google.com/github/CHEN-BO-HAN/AI/blob/main/5.keras_CNN_Cifar10.ipynb\" target=\"_parent\"><img src=\"https://colab.research.google.com/assets/colab-badge.svg\" alt=\"Open In Colab\"/></a>"
      ]
    },
    {
      "cell_type": "code",
      "source": [
        "from tensorflow import keras\n",
        "from keras.models import Sequential\n",
        "from keras.layers import Dense, Conv2D, MaxPooling2D, Flatten\n",
        "model=Sequential()\n",
        "model.add(Conv2D(filters=64, kernel_size=(5, 5), input_shape=(32, 32, 3), activation='relu'))\n",
        "model.add(Conv2D(filters=64, kernel_size=(5, 5), activation='relu'))\n",
        "model.add(MaxPooling2D(pool_size=2))\n",
        "model.add(Conv2D(filters=128, kernel_size=(5, 5), activation='relu'))\n",
        "model.add(Conv2D(filters=128, kernel_size=(5, 5), activation='relu'))\n",
        "model.add(MaxPooling2D(pool_size=2))\n",
        "model.add(Flatten())\n",
        "model.add(Dense(10, activation='softmax'))\n",
        "model.summary()\n",
        "model.compile(optimizer='rmsprop', loss='categorical_crossentropy', metrics=['accuracy'])"
      ],
      "metadata": {
        "colab": {
          "base_uri": "https://localhost:8080/"
        },
        "id": "LQ_HZ-tK8L-C",
        "outputId": "99771866-c6d2-4b5a-8cc0-b1a0d65b9102"
      },
      "execution_count": 1,
      "outputs": [
        {
          "output_type": "stream",
          "name": "stdout",
          "text": [
            "Model: \"sequential\"\n",
            "_________________________________________________________________\n",
            " Layer (type)                Output Shape              Param #   \n",
            "=================================================================\n",
            " conv2d (Conv2D)             (None, 28, 28, 64)        4864      \n",
            "                                                                 \n",
            " conv2d_1 (Conv2D)           (None, 24, 24, 64)        102464    \n",
            "                                                                 \n",
            " max_pooling2d (MaxPooling2D  (None, 12, 12, 64)       0         \n",
            " )                                                               \n",
            "                                                                 \n",
            " conv2d_2 (Conv2D)           (None, 8, 8, 128)         204928    \n",
            "                                                                 \n",
            " conv2d_3 (Conv2D)           (None, 4, 4, 128)         409728    \n",
            "                                                                 \n",
            " max_pooling2d_1 (MaxPooling  (None, 2, 2, 128)        0         \n",
            " 2D)                                                             \n",
            "                                                                 \n",
            " flatten (Flatten)           (None, 512)               0         \n",
            "                                                                 \n",
            " dense (Dense)               (None, 10)                5130      \n",
            "                                                                 \n",
            "=================================================================\n",
            "Total params: 727,114\n",
            "Trainable params: 727,114\n",
            "Non-trainable params: 0\n",
            "_________________________________________________________________\n"
          ]
        }
      ]
    },
    {
      "cell_type": "code",
      "source": [
        "cifar10=keras.datasets.cifar10\n",
        "(train_data, train_label), (test_data, test_label) = cifar10.load_data()\n",
        "train_label_original=train_label\n",
        "train_label = keras.utils.to_categorical(train_label)\n",
        "test_label = keras.utils.to_categorical(test_label)"
      ],
      "metadata": {
        "id": "4eM5EOSr4DLB",
        "outputId": "3cf5222d-2d32-499f-bcc7-ffdbc8bd0c44",
        "colab": {
          "base_uri": "https://localhost:8080/"
        }
      },
      "execution_count": 2,
      "outputs": [
        {
          "output_type": "stream",
          "name": "stdout",
          "text": [
            "Downloading data from https://www.cs.toronto.edu/~kriz/cifar-10-python.tar.gz\n",
            "170500096/170498071 [==============================] - 11s 0us/step\n",
            "170508288/170498071 [==============================] - 11s 0us/step\n"
          ]
        }
      ]
    },
    {
      "cell_type": "code",
      "source": [
        "import matplotlib.pyplot as plt\n",
        "category=['airplane','automobile','bird','cat','deer','dog','frog','horse','ship','truck']\n",
        "plt.imshow(train_data[0])\n",
        "plt.title(category[int(train_label_original[0])])\n",
        "plt.show()\n",
        "print(train_label_original[0])"
      ],
      "metadata": {
        "colab": {
          "base_uri": "https://localhost:8080/",
          "height": 300
        },
        "id": "4j8cPTbDahQr",
        "outputId": "736d2007-9225-464d-af4a-b9bd11327ebc"
      },
      "execution_count": 3,
      "outputs": [
        {
          "output_type": "display_data",
          "data": {
            "text/plain": [
              "<Figure size 432x288 with 1 Axes>"
            ],
            "image/png": "[encoded data removed]"
          },
          "metadata": {
            "needs_background": "light"
          }
        },
        {
          "output_type": "stream",
          "name": "stdout",
          "text": [
            "[6]\n"
          ]
        }
      ]
    },
    {
      "cell_type": "code",
      "source": [
        "train_history=model.fit(train_data,train_label,epochs=30,batch_size=512)\n"
      ],
      "metadata": {
        "id": "UFCQb8bgy3nU",
        "colab": {
          "base_uri": "https://localhost:8080/"
        },
        "outputId": "493e6de2-93fb-4e17-9522-43942b99b8e7"
      },
      "execution_count": 4,
      "outputs": [
        {
          "output_type": "stream",
          "name": "stdout",
          "text": [
            "Epoch 1/30\n",
            "98/98 [==============================] - 22s 100ms/step - loss: 15.4953 - accuracy: 0.1177\n",
            "Epoch 2/30\n",
            "98/98 [==============================] - 9s 88ms/step - loss: 2.4507 - accuracy: 0.1188\n",
            "Epoch 3/30\n",
            "98/98 [==============================] - 9s 89ms/step - loss: 2.4732 - accuracy: 0.1840\n",
            "Epoch 4/30\n",
            "98/98 [==============================] - 9s 90ms/step - loss: 2.1818 - accuracy: 0.2437\n",
            "Epoch 5/30\n",
            "98/98 [==============================] - 9s 90ms/step - loss: 1.9611 - accuracy: 0.3224\n",
            "Epoch 6/30\n",
            "98/98 [==============================] - 9s 90ms/step - loss: 1.7646 - accuracy: 0.3931\n",
            "Epoch 7/30\n",
            "98/98 [==============================] - 9s 92ms/step - loss: 1.6699 - accuracy: 0.4272\n",
            "Epoch 8/30\n",
            "98/98 [==============================] - 9s 90ms/step - loss: 1.6239 - accuracy: 0.4538\n",
            "Epoch 9/30\n",
            "98/98 [==============================] - 9s 91ms/step - loss: 1.3833 - accuracy: 0.5267\n",
            "Epoch 10/30\n",
            "98/98 [==============================] - 9s 91ms/step - loss: 1.2777 - accuracy: 0.5620\n",
            "Epoch 11/30\n",
            "98/98 [==============================] - 9s 90ms/step - loss: 1.2066 - accuracy: 0.5987\n",
            "Epoch 12/30\n",
            "98/98 [==============================] - 9s 90ms/step - loss: 1.0049 - accuracy: 0.6570\n",
            "Epoch 13/30\n",
            "98/98 [==============================] - 9s 90ms/step - loss: 0.9650 - accuracy: 0.6744\n",
            "Epoch 14/30\n",
            "98/98 [==============================] - 9s 90ms/step - loss: 0.8040 - accuracy: 0.7247\n",
            "Epoch 15/30\n",
            "98/98 [==============================] - 9s 90ms/step - loss: 0.7006 - accuracy: 0.7629\n",
            "Epoch 16/30\n",
            "98/98 [==============================] - 9s 91ms/step - loss: 0.6059 - accuracy: 0.7950\n",
            "Epoch 17/30\n",
            "98/98 [==============================] - 9s 90ms/step - loss: 0.5417 - accuracy: 0.8160\n",
            "Epoch 18/30\n",
            "98/98 [==============================] - 9s 90ms/step - loss: 0.4556 - accuracy: 0.8484\n",
            "Epoch 19/30\n",
            "98/98 [==============================] - 9s 91ms/step - loss: 0.4185 - accuracy: 0.8602\n",
            "Epoch 20/30\n",
            "98/98 [==============================] - 9s 91ms/step - loss: 0.3703 - accuracy: 0.8794\n",
            "Epoch 21/30\n",
            "98/98 [==============================] - 9s 91ms/step - loss: 0.3144 - accuracy: 0.8979\n",
            "Epoch 22/30\n",
            "98/98 [==============================] - 9s 91ms/step - loss: 0.3179 - accuracy: 0.9018\n",
            "Epoch 23/30\n",
            "98/98 [==============================] - 9s 91ms/step - loss: 0.2981 - accuracy: 0.9101\n",
            "Epoch 24/30\n",
            "98/98 [==============================] - 9s 91ms/step - loss: 0.2657 - accuracy: 0.9176\n",
            "Epoch 25/30\n",
            "98/98 [==============================] - 9s 90ms/step - loss: 0.2684 - accuracy: 0.9188\n",
            "Epoch 26/30\n",
            "98/98 [==============================] - 9s 90ms/step - loss: 0.2305 - accuracy: 0.9318\n",
            "Epoch 27/30\n",
            "98/98 [==============================] - 9s 90ms/step - loss: 0.2517 - accuracy: 0.9290\n",
            "Epoch 28/30\n",
            "98/98 [==============================] - 9s 90ms/step - loss: 0.2242 - accuracy: 0.9350\n",
            "Epoch 29/30\n",
            "98/98 [==============================] - 9s 90ms/step - loss: 0.2201 - accuracy: 0.9380\n",
            "Epoch 30/30\n",
            "98/98 [==============================] - 9s 90ms/step - loss: 0.2128 - accuracy: 0.9385\n"
          ]
        }
      ]
    },
    {
      "cell_type": "code",
      "source": [
        "score=model.evaluate(test_data, test_label)\n",
        "print(score[1])"
      ],
      "metadata": {
        "id": "SC2VW7yl87F-",
        "colab": {
          "base_uri": "https://localhost:8080/"
        },
        "outputId": "32554f27-b8b3-4bb3-e4fb-1ca12319eca5"
      },
      "execution_count": 5,
      "outputs": [
        {
          "output_type": "stream",
          "name": "stdout",
          "text": [
            "313/313 [==============================] - 3s 8ms/step - loss: 3.5629 - accuracy: 0.5680\n",
            "0.5680000185966492\n"
          ]
        }
      ]
    },
    {
      "cell_type": "code",
      "source": [
        "#繪製正確性與損失歷史圖\n",
        "import matplotlib.pyplot as plt\n",
        "import numpy as np\n",
        "\n",
        "def show_train_history(train_history, train):\n",
        "    plt.plot(train_history.history[train])\n",
        "    plt.title('Train History')\n",
        "    plt.ylabel(train)\n",
        "    plt.xlabel('Epoch')\n",
        "    plt.legend(['train'], loc='center right')\n",
        "    plt.show()\n",
        "\n",
        "show_train_history(train_history, 'accuracy')\n",
        "show_train_history(train_history, 'loss')"
      ],
      "metadata": {
        "colab": {
          "base_uri": "https://localhost:8080/",
          "height": 573
        },
        "id": "YycOQ_auS_1s",
        "outputId": "984a328a-8c1b-4c8a-c6b2-bd3076c63e5d"
      },
      "execution_count": 6,
      "outputs": [
        {
          "output_type": "display_data",
          "data": {
            "text/plain": [
              "<Figure size 432x288 with 1 Axes>"
            ],
            "image/png": "[encoded data removed]"
          },
          "metadata": {
            "needs_background": "light"
          }
        },
        {
          "output_type": "display_data",
          "data": {
            "text/plain": [
              "<Figure size 432x288 with 1 Axes>"
            ],
            "image/png": "[encoded data removed]"
          },
          "metadata": {
            "needs_background": "light"
          }
        }
      ]
    }
  ]
}